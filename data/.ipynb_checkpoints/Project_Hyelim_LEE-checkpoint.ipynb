{
 "cells": [
  {
   "cell_type": "markdown",
   "id": "0c8a398b",
   "metadata": {},
   "source": [
    "# Project : Adoption Rate Prediction"
   ]
  },
  {
   "cell_type": "markdown",
   "id": "ac812479",
   "metadata": {},
   "source": [
    "The dataset presents pet's characteristics and includes tabular, text and image data. It's come from: https://www.petfinder.my.\n",
    "\n",
    "The aim is to predict the rate at which a pet is adopted.\n",
    "\n",
    "**Data fields:**\n",
    "\n",
    "* index - Unique hash ID of pet profile\n",
    "* Type - Dog or Cat\n",
    "* Age - Age of pet when listed, in months\n",
    "* Gender - Gender of pet (Male, Female, Mixed, if profile represents group of pets)\n",
    "* Color1 - Color 1 of pet\n",
    "* Color2 - Color 2 of pet \n",
    "* Color3 - Color 3 of pet \n",
    "* MaturitySize - Size at maturity (Small, Medium, Large, Extra Large, Not Specified)\n",
    "* FurLength - Fur length (Short, Medium, Long, Not Specified)\n",
    "* Vaccinated - Pet has been vaccinated (Yes, No, Not Sure)\n",
    "* Dewormed - Pet has been dewormed (Yes, No, Not Sure)\n",
    "* Sterilized - Pet has been spayed / neutered (Yes, No, Not Sure)\n",
    "* Health - Health Condition (Healthy, Minor Injury, Serious Injury, Not Specified)\n",
    "* Fee - Adoption fee (0 = Free)\n",
    "* Breed - breed of pet (see on the dataset)\n",
    "* Description - Profile write-up for this pet. The primary language used is English, with some in Malay or Chinese.\n",
    "* Image - a pointer to an image\n",
    "\n",
    "The aim is to predic AdoptionSpeed. The value is determined by how quickly, if at all, a pet is adopted. The values are determined in the following way: \n",
    "\n",
    "* 0 - Pet was adopted on the same day as it was listed. \n",
    "* 1 - Pet was adopted between 1 and 7 days (1st week) after being listed. \n",
    "* 2 - Pet was adopted between 8 and 30 days (1st month) after being listed. \n",
    "* 3 - Pet was adopted between 31 and 90 days (2nd & 3rd month) after being listed. \n",
    "* 4 - No adoption after 100 days of being listed. (There are no pets in this dataset that waited between 90 and 100 days).\n",
    "\n",
    "Submissions are scored based on the quadratic weighted kappa, which measures the agreement between two ratings. This metrics exist on sklean: sklearn.metrics.cohen_kappa_score with weights=\"quadratic\"."
   ]
  },
  {
   "cell_type": "markdown",
   "id": "73c4455e",
   "metadata": {},
   "source": [
    "# Data Loading"
   ]
  },
  {
   "cell_type": "code",
   "execution_count": null,
   "id": "7b14417a",
   "metadata": {},
   "outputs": [],
   "source": [
    "train"
   ]
  }
 ],
 "metadata": {
  "hide_input": false,
  "kernelspec": {
   "display_name": "Python 3 (ipykernel)",
   "language": "python",
   "name": "python3"
  },
  "language_info": {
   "codemirror_mode": {
    "name": "ipython",
    "version": 3
   },
   "file_extension": ".py",
   "mimetype": "text/x-python",
   "name": "python",
   "nbconvert_exporter": "python",
   "pygments_lexer": "ipython3",
   "version": "3.9.13"
  },
  "toc": {
   "base_numbering": 1,
   "nav_menu": {},
   "number_sections": true,
   "sideBar": true,
   "skip_h1_title": false,
   "title_cell": "Table of Contents",
   "title_sidebar": "Contents",
   "toc_cell": false,
   "toc_position": {},
   "toc_section_display": true,
   "toc_window_display": true
  },
  "varInspector": {
   "cols": {
    "lenName": 16,
    "lenType": 16,
    "lenVar": 40
   },
   "kernels_config": {
    "python": {
     "delete_cmd_postfix": "",
     "delete_cmd_prefix": "del ",
     "library": "var_list.py",
     "varRefreshCmd": "print(var_dic_list())"
    },
    "r": {
     "delete_cmd_postfix": ") ",
     "delete_cmd_prefix": "rm(",
     "library": "var_list.r",
     "varRefreshCmd": "cat(var_dic_list()) "
    }
   },
   "types_to_exclude": [
    "module",
    "function",
    "builtin_function_or_method",
    "instance",
    "_Feature"
   ],
   "window_display": false
  }
 },
 "nbformat": 4,
 "nbformat_minor": 5
}
